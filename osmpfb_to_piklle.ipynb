{
 "cells": [
  {
   "cell_type": "code",
   "execution_count": 14,
   "id": "0c29c249-ed2e-45ae-b886-3529e6502064",
   "metadata": {},
   "outputs": [
    {
     "name": "stderr",
     "output_type": "stream",
     "text": [
      "C:\\Users\\Giorgio\\anaconda3\\envs\\myenv\\lib\\site-packages\\geopandas\\_compat.py:112: UserWarning: The Shapely GEOS version (3.11.0-CAPI-1.17.0) is incompatible with the GEOS version PyGEOS was compiled with (3.10.3-CAPI-1.16.1). Conversions between both will be slow.\n",
      "  warnings.warn(\n",
      "<frozen importlib._bootstrap>:241: RuntimeWarning: scipy._lib.messagestream.MessageStream size changed, may indicate binary incompatibility. Expected 56 from C header, got 64 from PyObject\n"
     ]
    }
   ],
   "source": [
    "import osmnx as ox\n",
    "import numpy as np\n",
    "import pandas as pd\n",
    "from rapidfuzz import process\n",
    "import time\n",
    "import geocoder\n",
    "from geopy.exc import GeocoderTimedOut\n",
    "\n",
    "import networkx as nx\n",
    "import osmnx as ox\n",
    "from pyrosm import OSM\n",
    "\n",
    "%matplotlib inline\n",
    "ox.__version__\n",
    "\n",
    "import pickle"
   ]
  },
  {
   "cell_type": "code",
   "execution_count": null,
   "id": "ae52dcf0-b413-4837-9455-3db9e1dd0a37",
   "metadata": {},
   "outputs": [],
   "source": [
    "#osm_path = r\"data/italy-latest.osm.pbf\" # downloaded from geofabrik https://download.geofabrik.de/europe/italy.html\n",
    "osm_path_NO = r\"data/nord-ovest-latest.osm.pbf\"\n",
    "osm_path_S = r\"data/sud-latest.osm.pbf\"\n",
    "osm_path_C = r\"data/centro-latest.osm.pbf\"\n",
    "osm_path_I = r\"data/isole-latest.osm.pbf\"\n",
    "osm_path_NE = r\"data/nord-est-latest.osm.pbf\"\n",
    "#osm_path = r\"data/pbf_italy/07_Liguria_poly-2022-05-18T02Z.osm.pbf\" # downloaded from geofabrik\n",
    "osm_NO = OSM(osm_path_NO)\n",
    "osm_S = OSM(osm_path_S)\n",
    "osm_C = OSM(osm_path_C)\n",
    "osm_I = OSM(osm_path_I)\n",
    "osm_NE = OSM(osm_path_NE)"
   ]
  },
  {
   "cell_type": "code",
   "execution_count": null,
   "id": "82b49d60-29ac-4f5c-abd9-86696171bfa8",
   "metadata": {},
   "outputs": [],
   "source": [
    "drive_net = osm_I.get_network(network_type=\"all\")\n",
    "network = drive_net[['name','geometry', 'length']].dropna()\n",
    "network.to_pickle(\"./network_I.pkl\") \n",
    "end = time.time()\n",
    "\n",
    "drive_net = osm_I.get_network(network_type=\"all\")\n",
    "network = drive_net[['name','geometry', 'length']].dropna()\n",
    "network.to_pickle(\"./network_I.pkl\") \n",
    "end = time.time()\n",
    "\n",
    "drive_net = osm_I.get_network(network_type=\"all\")\n",
    "network = drive_net[['name','geometry', 'length']].dropna()\n",
    "network.to_pickle(\"./network_I.pkl\") \n",
    "end = time.time()\n",
    "\n",
    "drive_net = osm_I.get_network(network_type=\"all\")\n",
    "network = drive_net[['name','geometry', 'length']].dropna()\n",
    "network.to_pickle(\"./network_I.pkl\") \n",
    "end = time.time()\n",
    "\n",
    "drive_net = osm_I.get_network(network_type=\"all\")\n",
    "network = drive_net[['name','geometry', 'length']].dropna()\n",
    "network.to_pickle(\"./network_I.pkl\") \n",
    "end = time.time()"
   ]
  }
 ],
 "metadata": {
  "kernelspec": {
   "display_name": "Python 3 (ipykernel)",
   "language": "python",
   "name": "python3"
  },
  "language_info": {
   "codemirror_mode": {
    "name": "ipython",
    "version": 3
   },
   "file_extension": ".py",
   "mimetype": "text/x-python",
   "name": "python",
   "nbconvert_exporter": "python",
   "pygments_lexer": "ipython3",
   "version": "3.10.6"
  }
 },
 "nbformat": 4,
 "nbformat_minor": 5
}
